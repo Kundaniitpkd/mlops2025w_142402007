{
 "cells": [
  {
   "cell_type": "code",
   "execution_count": 2,
   "id": "a1903610",
   "metadata": {},
   "outputs": [
    {
     "name": "stdout",
     "output_type": "stream",
     "text": [
      "📚 Libraries imported successfully!\n"
     ]
    }
   ],
   "source": [
    "# Import required libraries\n",
    "import time\n",
    "import random\n",
    "from pymongo import MongoClient\n",
    "import matplotlib.pyplot as plt\n",
    "import pandas as pd\n",
    "import numpy as np\n",
    "\n",
    "print(\"📚 Libraries imported successfully!\")"
   ]
  },
  {
   "cell_type": "code",
   "execution_count": 3,
   "id": "0a4ea02e",
   "metadata": {},
   "outputs": [
    {
     "name": "stdout",
     "output_type": "stream",
     "text": [
      "✅ Connected to MongoDB successfully!\n",
      "📊 Transaction documents: 66\n",
      "👥 Customer documents: 48\n"
     ]
    }
   ],
   "source": [
    "# MongoDB Configuration\n",
    "MONGO_URI = \"mongodb://localhost:27017/\"\n",
    "DB_NAME = \"online_retail_db\"\n",
    "\n",
    "# Connect to MongoDB\n",
    "client = MongoClient(MONGO_URI, maxPoolSize=50, minPoolSize=10)\n",
    "db = client[DB_NAME]\n",
    "transaction_collection = db.transactions\n",
    "customer_collection = db.customers\n",
    "\n",
    "print(\"✅ Connected to MongoDB successfully!\")\n",
    "print(f\"📊 Transaction documents: {transaction_collection.count_documents({})}\")\n",
    "print(f\"👥 Customer documents: {customer_collection.count_documents({})}\")"
   ]
  },
  {
   "cell_type": "code",
   "execution_count": 4,
   "id": "1126d474",
   "metadata": {},
   "outputs": [
    {
     "name": "stdout",
     "output_type": "stream",
     "text": [
      "⏱️  Timing function ready!\n"
     ]
    }
   ],
   "source": [
    "# Helper function to measure execution time\n",
    "def measure_time(func, *args, **kwargs):\n",
    "    \"\"\"Measure execution time of a function\"\"\"\n",
    "    start_time = time.time()\n",
    "    result = func(*args, **kwargs)\n",
    "    end_time = time.time()\n",
    "    return end_time - start_time, result\n",
    "\n",
    "print(\"⏱️  Timing function ready!\")"
   ]
  },
  {
   "cell_type": "code",
   "execution_count": 11,
   "id": "ef0f2b1a",
   "metadata": {},
   "outputs": [
    {
     "name": "stdout",
     "output_type": "stream",
     "text": [
      "🧪 Test Transaction: 536365\n",
      "🧪 Test Customer: 17850\n",
      "🧪 Test Stock Code: 85123A\n"
     ]
    }
   ],
   "source": [
    "# Get sample data for testing\n",
    "sample_transaction = transaction_collection.find_one()\n",
    "sample_customer = customer_collection.find_one()\n",
    "\n",
    "test_transaction_no = sample_transaction['invoice_no']\n",
    "test_customer_id = sample_customer['customer_id']\n",
    "test_stock_code = sample_transaction['line_items'][0]['stock_code']\n",
    "\n",
    "print(f\"🧪 Test Transaction: {test_transaction_no}\")\n",
    "print(f\"🧪 Test Customer: {test_customer_id}\")\n",
    "print(f\"🧪 Test Stock Code: {test_stock_code}\")"
   ]
  },
  {
   "cell_type": "code",
   "execution_count": 12,
   "id": "bf589312",
   "metadata": {},
   "outputs": [
    {
     "name": "stdout",
     "output_type": "stream",
     "text": [
      "🚀 Testing CREATE Operations...\n",
      "✅ CREATE Operations Completed!\n",
      "   Transaction-centric: 0.000392s\n",
      "   Customer-centric: 0.000289s\n"
     ]
    }
   ],
   "source": [
    "print(\"🚀 Testing CREATE Operations...\")\n",
    "\n",
    "def create_transaction_document():\n",
    "    new_transaction = {\n",
    "        'invoice_no': f'TEST_{int(time.time())}_{random.randint(1000,9999)}',\n",
    "        'invoice_date': '2024-01-01',\n",
    "        'customer_id': test_customer_id,\n",
    "        'country': 'Test Country',\n",
    "        'cancelled': False,\n",
    "        'line_items': [\n",
    "            {\n",
    "                'line_id': 999999,\n",
    "                'stock_code': 'TEST_ITEM',\n",
    "                'description': 'Test Product',\n",
    "                'quantity': 10,\n",
    "                'unit_price': 15.99,\n",
    "                'line_total': 159.90\n",
    "            }\n",
    "        ],\n",
    "        'total_amount': 159.90\n",
    "    }\n",
    "    return transaction_collection.insert_one(new_transaction)\n",
    "\n",
    "def create_customer_document():\n",
    "    new_customer = {\n",
    "        'customer_id': int(time.time()),\n",
    "        'country': 'Test Country',\n",
    "        'transactions': [\n",
    "            {\n",
    "                'invoice_no': f'TEST_{int(time.time())}',\n",
    "                'invoice_date': '2024-01-01',\n",
    "                'cancelled': False,\n",
    "                'items': [\n",
    "                    {\n",
    "                        'stock_code': 'TEST_ITEM',\n",
    "                        'description': 'Test Product',\n",
    "                        'quantity': 5,\n",
    "                        'unit_price': 20.0,\n",
    "                        'total': 100.0\n",
    "                    }\n",
    "                ]\n",
    "            }\n",
    "        ],\n",
    "        'total_spent': 100.0,\n",
    "        'total_items_purchased': 5\n",
    "    }\n",
    "    return customer_collection.insert_one(new_customer)\n",
    "\n",
    "# Test CREATE operations\n",
    "create_results = []\n",
    "for i in range(50):\n",
    "    time_taken, _ = measure_time(create_transaction_document)\n",
    "    create_results.append(('transaction_create', time_taken))\n",
    "    \n",
    "    time_taken, _ = measure_time(create_customer_document)\n",
    "    create_results.append(('customer_create', time_taken))\n",
    "\n",
    "# Calculate averages\n",
    "avg_transaction_create = np.mean([t for op, t in create_results if op == 'transaction_create'])\n",
    "avg_customer_create = np.mean([t for op, t in create_results if op == 'customer_create'])\n",
    "\n",
    "print(f\"✅ CREATE Operations Completed!\")\n",
    "print(f\"   Transaction-centric: {avg_transaction_create:.6f}s\")\n",
    "print(f\"   Customer-centric: {avg_customer_create:.6f}s\")"
   ]
  },
  {
   "cell_type": "code",
   "execution_count": 13,
   "id": "fd2f6ca2",
   "metadata": {},
   "outputs": [
    {
     "name": "stdout",
     "output_type": "stream",
     "text": [
      "🔍 Testing READ Operations...\n",
      "✅ READ Operations Completed!\n",
      "   Simple Read - Transaction: 0.000667s\n",
      "   Simple Read - Customer: 0.000424s\n",
      "   Complex Read - Transaction: 0.000473s\n",
      "   Complex Read - Customer: 0.000505s\n"
     ]
    }
   ],
   "source": [
    "print(\"🔍 Testing READ Operations...\")\n",
    "\n",
    "def read_transaction_by_invoice():\n",
    "    return transaction_collection.find_one({'invoice_no': test_transaction_no})\n",
    "\n",
    "def read_customer_by_id():\n",
    "    return customer_collection.find_one({'customer_id': test_customer_id})\n",
    "\n",
    "def read_transactions_by_country():\n",
    "    return list(transaction_collection.find({'country': 'United Kingdom'}).limit(10))\n",
    "\n",
    "def read_customers_by_country():\n",
    "    return list(customer_collection.find({'country': 'United Kingdom'}).limit(10))\n",
    "\n",
    "# Test READ operations\n",
    "read_results = []\n",
    "for i in range(50):\n",
    "    # Simple reads\n",
    "    time_taken, _ = measure_time(read_transaction_by_invoice)\n",
    "    read_results.append(('transaction_read_simple', time_taken))\n",
    "    \n",
    "    time_taken, _ = measure_time(read_customer_by_id)\n",
    "    read_results.append(('customer_read_simple', time_taken))\n",
    "    \n",
    "    # Complex reads\n",
    "    time_taken, _ = measure_time(read_transactions_by_country)\n",
    "    read_results.append(('transaction_read_complex', time_taken))\n",
    "    \n",
    "    time_taken, _ = measure_time(read_customers_by_country)\n",
    "    read_results.append(('customer_read_complex', time_taken))\n",
    "\n",
    "# Calculate averages\n",
    "avg_transaction_read_simple = np.mean([t for op, t in read_results if op == 'transaction_read_simple'])\n",
    "avg_customer_read_simple = np.mean([t for op, t in read_results if op == 'customer_read_simple'])\n",
    "avg_transaction_read_complex = np.mean([t for op, t in read_results if op == 'transaction_read_complex'])\n",
    "avg_customer_read_complex = np.mean([t for op, t in read_results if op == 'customer_read_complex'])\n",
    "\n",
    "print(f\"✅ READ Operations Completed!\")\n",
    "print(f\"   Simple Read - Transaction: {avg_transaction_read_simple:.6f}s\")\n",
    "print(f\"   Simple Read - Customer: {avg_customer_read_simple:.6f}s\")\n",
    "print(f\"   Complex Read - Transaction: {avg_transaction_read_complex:.6f}s\")\n",
    "print(f\"   Complex Read - Customer: {avg_customer_read_complex:.6f}s\")"
   ]
  },
  {
   "cell_type": "code",
   "execution_count": 14,
   "id": "08b5c65b",
   "metadata": {},
   "outputs": [
    {
     "name": "stdout",
     "output_type": "stream",
     "text": [
      "✏️  Testing UPDATE Operations...\n",
      "✅ UPDATE Operations Completed!\n",
      "   Simple Update - Transaction: 0.000630s\n",
      "   Simple Update - Customer: 0.000496s\n",
      "   Nested Update - Transaction: 0.000480s\n",
      "   Nested Update - Customer: 0.000325s\n"
     ]
    }
   ],
   "source": [
    "print(\"✏️  Testing UPDATE Operations...\")\n",
    "\n",
    "def update_transaction():\n",
    "    return transaction_collection.update_one(\n",
    "        {'invoice_no': test_transaction_no},\n",
    "        {'$set': {'country': 'Updated Country'}}\n",
    "    )\n",
    "\n",
    "def update_customer():\n",
    "    return customer_collection.update_one(\n",
    "        {'customer_id': test_customer_id},\n",
    "        {'$set': {'country': 'Updated Country'}}\n",
    "    )\n",
    "\n",
    "def update_transaction_line_item():\n",
    "    return transaction_collection.update_one(\n",
    "        {'invoice_no': test_transaction_no, 'line_items.stock_code': test_stock_code},\n",
    "        {'$set': {'line_items.$.quantity': 100}}\n",
    "    )\n",
    "\n",
    "def update_customer_transaction():\n",
    "    return customer_collection.update_one(\n",
    "        {'customer_id': test_customer_id, 'transactions.invoice_no': test_transaction_no},\n",
    "        {'$set': {'transactions.$.items.0.quantity': 50}}\n",
    "    )\n",
    "\n",
    "# Test UPDATE operations\n",
    "update_results = []\n",
    "for i in range(50):\n",
    "    # Simple updates\n",
    "    time_taken, _ = measure_time(update_transaction)\n",
    "    update_results.append(('transaction_update_simple', time_taken))\n",
    "    \n",
    "    time_taken, _ = measure_time(update_customer)\n",
    "    update_results.append(('customer_update_simple', time_taken))\n",
    "    \n",
    "    # Nested updates\n",
    "    time_taken, _ = measure_time(update_transaction_line_item)\n",
    "    update_results.append(('transaction_update_nested', time_taken))\n",
    "    \n",
    "    time_taken, _ = measure_time(update_customer_transaction)\n",
    "    update_results.append(('customer_update_nested', time_taken))\n",
    "\n",
    "# Calculate averages\n",
    "avg_transaction_update_simple = np.mean([t for op, t in update_results if op == 'transaction_update_simple'])\n",
    "avg_customer_update_simple = np.mean([t for op, t in update_results if op == 'customer_update_simple'])\n",
    "avg_transaction_update_nested = np.mean([t for op, t in update_results if op == 'transaction_update_nested'])\n",
    "avg_customer_update_nested = np.mean([t for op, t in update_results if op == 'customer_update_nested'])\n",
    "\n",
    "print(f\"✅ UPDATE Operations Completed!\")\n",
    "print(f\"   Simple Update - Transaction: {avg_transaction_update_simple:.6f}s\")\n",
    "print(f\"   Simple Update - Customer: {avg_customer_update_simple:.6f}s\")\n",
    "print(f\"   Nested Update - Transaction: {avg_transaction_update_nested:.6f}s\")\n",
    "print(f\"   Nested Update - Customer: {avg_customer_update_nested:.6f}s\")"
   ]
  },
  {
   "cell_type": "code",
   "execution_count": 15,
   "id": "751156a9",
   "metadata": {},
   "outputs": [
    {
     "name": "stdout",
     "output_type": "stream",
     "text": [
      "🧹 Cleaning up test data...\n",
      "✅ Test data cleaned up!\n"
     ]
    }
   ],
   "source": [
    "print(\"🧹 Cleaning up test data...\")\n",
    "\n",
    "# Delete test transactions and customers\n",
    "transaction_collection.delete_many({'invoice_no': {'$regex': '^TEST_'}})\n",
    "customer_collection.delete_many({'customer_id': {'$gte': 1700000000}})\n",
    "\n",
    "print(\"✅ Test data cleaned up!\")"
   ]
  },
  {
   "cell_type": "code",
   "execution_count": 16,
   "id": "a6d59daf",
   "metadata": {},
   "outputs": [
    {
     "name": "stdout",
     "output_type": "stream",
     "text": [
      "📊 Preparing results data...\n",
      "✅ Results data prepared!\n",
      "\n",
      "📈 Performance Summary:\n",
      "       Operation  Transaction_Centric  Customer_Centric\n",
      "0         Create             0.000392          0.000289\n",
      "1    Read Simple             0.000667          0.000424\n",
      "2   Read Complex             0.000473          0.000505\n",
      "3  Update Simple             0.000630          0.000496\n",
      "4  Update Nested             0.000480          0.000325\n"
     ]
    }
   ],
   "source": [
    "print(\"📊 Preparing results data...\")\n",
    "\n",
    "# Compile all results\n",
    "results = {\n",
    "    'create_transaction': avg_transaction_create,\n",
    "    'create_customer': avg_customer_create,\n",
    "    'read_simple_transaction': avg_transaction_read_simple,\n",
    "    'read_simple_customer': avg_customer_read_simple,\n",
    "    'read_complex_transaction': avg_transaction_read_complex,\n",
    "    'read_complex_customer': avg_customer_read_complex,\n",
    "    'update_simple_transaction': avg_transaction_update_simple,\n",
    "    'update_simple_customer': avg_customer_update_simple,\n",
    "    'update_nested_transaction': avg_transaction_update_nested,\n",
    "    'update_nested_customer': avg_customer_update_nested\n",
    "}\n",
    "\n",
    "# Create DataFrame for visualization\n",
    "df = pd.DataFrame([\n",
    "    {'Operation': 'Create', 'Transaction_Centric': results['create_transaction'], \n",
    "     'Customer_Centric': results['create_customer']},\n",
    "    {'Operation': 'Read Simple', 'Transaction_Centric': results['read_simple_transaction'], \n",
    "     'Customer_Centric': results['read_simple_customer']},\n",
    "    {'Operation': 'Read Complex', 'Transaction_Centric': results['read_complex_transaction'], \n",
    "     'Customer_Centric': results['read_complex_customer']},\n",
    "    {'Operation': 'Update Simple', 'Transaction_Centric': results['update_simple_transaction'], \n",
    "     'Customer_Centric': results['update_simple_customer']},\n",
    "    {'Operation': 'Update Nested', 'Transaction_Centric': results['update_nested_transaction'], \n",
    "     'Customer_Centric': results['update_nested_customer']},\n",
    "])\n",
    "\n",
    "print(\"✅ Results data prepared!\")\n",
    "print(\"\\n📈 Performance Summary:\")\n",
    "print(df.round(6))"
   ]
  },
  {
   "cell_type": "code",
   "execution_count": null,
   "id": "82799b40",
   "metadata": {},
   "outputs": [],
   "source": []
  }
 ],
 "metadata": {
  "kernelspec": {
   "display_name": "ass4",
   "language": "python",
   "name": "python3"
  },
  "language_info": {
   "codemirror_mode": {
    "name": "ipython",
    "version": 3
   },
   "file_extension": ".py",
   "mimetype": "text/x-python",
   "name": "python",
   "nbconvert_exporter": "python",
   "pygments_lexer": "ipython3",
   "version": "3.11.3"
  }
 },
 "nbformat": 4,
 "nbformat_minor": 5
}
